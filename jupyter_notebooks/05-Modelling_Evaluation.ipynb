{
  "cells": [
    {
      "cell_type": "markdown",
      "metadata": {
        "id": "0aStgWSO0E0E"
      },
      "source": [
        "# **Part 5 - Modelling & Evaluation (Predict SalePrice)**"
      ]
    },
    {
      "cell_type": "markdown",
      "metadata": {
        "id": "1eLEkw5O0ECa"
      },
      "source": [
        "## Objectives\n",
        "\n",
        "* Fit and evaluate a Regression Model to predict sale price for our data\n",
        "\n",
        "## Inputs\n",
        "\n",
        "* X_train (Features)\n",
        "* y_train (Target)\n",
        "* X_test (Features)\n",
        "* y_test (Target)\n",
        "* Selected transformers for data cleaning and feature engineering (details in respective notebooks)\n",
        "\n",
        "## Outputs\n",
        "\n",
        "* Feature Engineering Pipeline\n",
        "* Modelling & Evalutation Pipeline\n",
        "* Plots for feature importance\n",
        "\n",
        "## Additional Comments\n",
        "\n",
        "* In case you have any additional comments that don't fit in the previous bullets, please state them here. \n"
      ]
    },
    {
      "cell_type": "markdown",
      "metadata": {
        "id": "9uWZXH9LwoQg"
      },
      "source": [
        "---"
      ]
    },
    {
      "cell_type": "markdown",
      "metadata": {},
      "source": [
        "# Change working directory"
      ]
    },
    {
      "cell_type": "markdown",
      "metadata": {},
      "source": [
        "* As the notebooks are stored in a subfolder, when running the notebook in the editor, the working directory will need to be adjusted."
      ]
    },
    {
      "cell_type": "markdown",
      "metadata": {},
      "source": [
        "The working directory will be changed from its current folder to its parent folder\n",
        "* access the current directory with os.getcwd()"
      ]
    },
    {
      "cell_type": "code",
      "execution_count": 1,
      "metadata": {},
      "outputs": [
        {
          "data": {
            "text/plain": [
              "'/workspace/Project5-PredictiveAnalytics-HeritageHousing/jupyter_notebooks'"
            ]
          },
          "execution_count": 1,
          "metadata": {},
          "output_type": "execute_result"
        }
      ],
      "source": [
        "import os\n",
        "current_dir = os.getcwd()\n",
        "current_dir"
      ]
    },
    {
      "cell_type": "markdown",
      "metadata": {},
      "source": [
        "The parent of the current directory needs to be made the new current directory\n",
        "* os.path.dirname() gets the parent directory\n",
        "* os.chir() defines the new current directory"
      ]
    },
    {
      "cell_type": "code",
      "execution_count": 2,
      "metadata": {},
      "outputs": [
        {
          "name": "stdout",
          "output_type": "stream",
          "text": [
            "You set a new current directory\n"
          ]
        }
      ],
      "source": [
        "os.chdir(os.path.dirname(current_dir))\n",
        "print(\"You set a new current directory\")"
      ]
    },
    {
      "cell_type": "markdown",
      "metadata": {},
      "source": [
        "* Confirm the new current directory"
      ]
    },
    {
      "cell_type": "code",
      "execution_count": 3,
      "metadata": {},
      "outputs": [
        {
          "data": {
            "text/plain": [
              "'/workspace/Project5-PredictiveAnalytics-HeritageHousing'"
            ]
          },
          "execution_count": 3,
          "metadata": {},
          "output_type": "execute_result"
        }
      ],
      "source": [
        "current_dir = os.getcwd()\n",
        "current_dir"
      ]
    },
    {
      "cell_type": "markdown",
      "metadata": {
        "id": "ZY3l0-AxO93d"
      },
      "source": [
        "---"
      ]
    },
    {
      "cell_type": "markdown",
      "metadata": {
        "id": "-mavJ8DibrcQ"
      },
      "source": [
        "# Load Data"
      ]
    },
    {
      "cell_type": "code",
      "execution_count": 4,
      "metadata": {},
      "outputs": [],
      "source": [
        "import numpy as np\n",
        "import pandas as pd \n",
        "X_train = pd.read_csv('./outputs/datasets/clean/X_train.csv')\n",
        "y_train = pd.read_csv('./outputs/datasets/clean/y_train.csv')"
      ]
    },
    {
      "cell_type": "code",
      "execution_count": 5,
      "metadata": {},
      "outputs": [
        {
          "name": "stdout",
          "output_type": "stream",
          "text": [
            "Features Train Set: (1168, 23)\n",
            "Target Train Set: (1168, 1)\n"
          ]
        }
      ],
      "source": [
        "print(f'Features Train Set: {X_train.shape}')\n",
        "print(f'Target Train Set: {y_train.shape}')\n"
      ]
    },
    {
      "cell_type": "markdown",
      "metadata": {},
      "source": [
        "### Features - Train Set"
      ]
    },
    {
      "cell_type": "code",
      "execution_count": 6,
      "metadata": {},
      "outputs": [
        {
          "data": {
            "text/html": [
              "<div>\n",
              "<style scoped>\n",
              "    .dataframe tbody tr th:only-of-type {\n",
              "        vertical-align: middle;\n",
              "    }\n",
              "\n",
              "    .dataframe tbody tr th {\n",
              "        vertical-align: top;\n",
              "    }\n",
              "\n",
              "    .dataframe thead th {\n",
              "        text-align: right;\n",
              "    }\n",
              "</style>\n",
              "<table border=\"1\" class=\"dataframe\">\n",
              "  <thead>\n",
              "    <tr style=\"text-align: right;\">\n",
              "      <th></th>\n",
              "      <th>1stFlrSF</th>\n",
              "      <th>2ndFlrSF</th>\n",
              "      <th>BedroomAbvGr</th>\n",
              "      <th>BsmtExposure</th>\n",
              "      <th>BsmtFinSF1</th>\n",
              "      <th>BsmtFinType1</th>\n",
              "      <th>BsmtUnfSF</th>\n",
              "      <th>EnclosedPorch</th>\n",
              "      <th>GarageArea</th>\n",
              "      <th>GarageFinish</th>\n",
              "      <th>...</th>\n",
              "      <th>LotArea</th>\n",
              "      <th>LotFrontage</th>\n",
              "      <th>MasVnrArea</th>\n",
              "      <th>OpenPorchSF</th>\n",
              "      <th>OverallCond</th>\n",
              "      <th>OverallQual</th>\n",
              "      <th>TotalBsmtSF</th>\n",
              "      <th>WoodDeckSF</th>\n",
              "      <th>YearBuilt</th>\n",
              "      <th>YearRemodAdd</th>\n",
              "    </tr>\n",
              "  </thead>\n",
              "  <tbody>\n",
              "    <tr>\n",
              "      <th>0</th>\n",
              "      <td>1222</td>\n",
              "      <td>698.0</td>\n",
              "      <td>4.0</td>\n",
              "      <td>No</td>\n",
              "      <td>0</td>\n",
              "      <td>Unf</td>\n",
              "      <td>570</td>\n",
              "      <td>0.0</td>\n",
              "      <td>487</td>\n",
              "      <td>RFn</td>\n",
              "      <td>...</td>\n",
              "      <td>10192</td>\n",
              "      <td>102.0</td>\n",
              "      <td>143.0</td>\n",
              "      <td>98</td>\n",
              "      <td>6</td>\n",
              "      <td>7</td>\n",
              "      <td>570</td>\n",
              "      <td>0.0</td>\n",
              "      <td>1968</td>\n",
              "      <td>1992</td>\n",
              "    </tr>\n",
              "    <tr>\n",
              "      <th>1</th>\n",
              "      <td>1165</td>\n",
              "      <td>0.0</td>\n",
              "      <td>4.0</td>\n",
              "      <td>No</td>\n",
              "      <td>0</td>\n",
              "      <td>Unf</td>\n",
              "      <td>1141</td>\n",
              "      <td>0.0</td>\n",
              "      <td>420</td>\n",
              "      <td>Fin</td>\n",
              "      <td>...</td>\n",
              "      <td>12090</td>\n",
              "      <td>93.0</td>\n",
              "      <td>650.0</td>\n",
              "      <td>123</td>\n",
              "      <td>5</td>\n",
              "      <td>8</td>\n",
              "      <td>1141</td>\n",
              "      <td>144.0</td>\n",
              "      <td>1998</td>\n",
              "      <td>1998</td>\n",
              "    </tr>\n",
              "    <tr>\n",
              "      <th>2</th>\n",
              "      <td>698</td>\n",
              "      <td>430.0</td>\n",
              "      <td>2.0</td>\n",
              "      <td>No</td>\n",
              "      <td>0</td>\n",
              "      <td>Unf</td>\n",
              "      <td>698</td>\n",
              "      <td>0.0</td>\n",
              "      <td>528</td>\n",
              "      <td>RFn</td>\n",
              "      <td>...</td>\n",
              "      <td>7500</td>\n",
              "      <td>60.0</td>\n",
              "      <td>0.0</td>\n",
              "      <td>0</td>\n",
              "      <td>4</td>\n",
              "      <td>4</td>\n",
              "      <td>698</td>\n",
              "      <td>0.0</td>\n",
              "      <td>1920</td>\n",
              "      <td>1950</td>\n",
              "    </tr>\n",
              "    <tr>\n",
              "      <th>3</th>\n",
              "      <td>1844</td>\n",
              "      <td>0.0</td>\n",
              "      <td>2.0</td>\n",
              "      <td>No</td>\n",
              "      <td>976</td>\n",
              "      <td>GLQ</td>\n",
              "      <td>868</td>\n",
              "      <td>0.0</td>\n",
              "      <td>620</td>\n",
              "      <td>Fin</td>\n",
              "      <td>...</td>\n",
              "      <td>10994</td>\n",
              "      <td>88.0</td>\n",
              "      <td>366.0</td>\n",
              "      <td>44</td>\n",
              "      <td>5</td>\n",
              "      <td>8</td>\n",
              "      <td>1844</td>\n",
              "      <td>0.0</td>\n",
              "      <td>2005</td>\n",
              "      <td>2006</td>\n",
              "    </tr>\n",
              "    <tr>\n",
              "      <th>4</th>\n",
              "      <td>1419</td>\n",
              "      <td>0.0</td>\n",
              "      <td>2.0</td>\n",
              "      <td>Av</td>\n",
              "      <td>945</td>\n",
              "      <td>Unf</td>\n",
              "      <td>474</td>\n",
              "      <td>0.0</td>\n",
              "      <td>567</td>\n",
              "      <td>RFn</td>\n",
              "      <td>...</td>\n",
              "      <td>8089</td>\n",
              "      <td>60.0</td>\n",
              "      <td>0.0</td>\n",
              "      <td>0</td>\n",
              "      <td>6</td>\n",
              "      <td>8</td>\n",
              "      <td>1419</td>\n",
              "      <td>0.0</td>\n",
              "      <td>2007</td>\n",
              "      <td>2007</td>\n",
              "    </tr>\n",
              "  </tbody>\n",
              "</table>\n",
              "<p>5 rows × 23 columns</p>\n",
              "</div>"
            ],
            "text/plain": [
              "   1stFlrSF  2ndFlrSF  BedroomAbvGr BsmtExposure  BsmtFinSF1 BsmtFinType1  \\\n",
              "0      1222     698.0           4.0           No           0          Unf   \n",
              "1      1165       0.0           4.0           No           0          Unf   \n",
              "2       698     430.0           2.0           No           0          Unf   \n",
              "3      1844       0.0           2.0           No         976          GLQ   \n",
              "4      1419       0.0           2.0           Av         945          Unf   \n",
              "\n",
              "   BsmtUnfSF  EnclosedPorch  GarageArea GarageFinish  ...  LotArea  \\\n",
              "0        570            0.0         487          RFn  ...    10192   \n",
              "1       1141            0.0         420          Fin  ...    12090   \n",
              "2        698            0.0         528          RFn  ...     7500   \n",
              "3        868            0.0         620          Fin  ...    10994   \n",
              "4        474            0.0         567          RFn  ...     8089   \n",
              "\n",
              "   LotFrontage MasVnrArea  OpenPorchSF  OverallCond  OverallQual  TotalBsmtSF  \\\n",
              "0        102.0      143.0           98            6            7          570   \n",
              "1         93.0      650.0          123            5            8         1141   \n",
              "2         60.0        0.0            0            4            4          698   \n",
              "3         88.0      366.0           44            5            8         1844   \n",
              "4         60.0        0.0            0            6            8         1419   \n",
              "\n",
              "   WoodDeckSF  YearBuilt  YearRemodAdd  \n",
              "0         0.0       1968          1992  \n",
              "1       144.0       1998          1998  \n",
              "2         0.0       1920          1950  \n",
              "3         0.0       2005          2006  \n",
              "4         0.0       2007          2007  \n",
              "\n",
              "[5 rows x 23 columns]"
            ]
          },
          "execution_count": 6,
          "metadata": {},
          "output_type": "execute_result"
        }
      ],
      "source": [
        "X_train.head()"
      ]
    },
    {
      "cell_type": "markdown",
      "metadata": {},
      "source": [
        "### Target - Train Set"
      ]
    },
    {
      "cell_type": "code",
      "execution_count": 7,
      "metadata": {},
      "outputs": [
        {
          "data": {
            "text/html": [
              "<div>\n",
              "<style scoped>\n",
              "    .dataframe tbody tr th:only-of-type {\n",
              "        vertical-align: middle;\n",
              "    }\n",
              "\n",
              "    .dataframe tbody tr th {\n",
              "        vertical-align: top;\n",
              "    }\n",
              "\n",
              "    .dataframe thead th {\n",
              "        text-align: right;\n",
              "    }\n",
              "</style>\n",
              "<table border=\"1\" class=\"dataframe\">\n",
              "  <thead>\n",
              "    <tr style=\"text-align: right;\">\n",
              "      <th></th>\n",
              "      <th>SalePrice</th>\n",
              "    </tr>\n",
              "  </thead>\n",
              "  <tbody>\n",
              "    <tr>\n",
              "      <th>0</th>\n",
              "      <td>170000</td>\n",
              "    </tr>\n",
              "    <tr>\n",
              "      <th>1</th>\n",
              "      <td>258000</td>\n",
              "    </tr>\n",
              "    <tr>\n",
              "      <th>2</th>\n",
              "      <td>68400</td>\n",
              "    </tr>\n",
              "    <tr>\n",
              "      <th>3</th>\n",
              "      <td>257000</td>\n",
              "    </tr>\n",
              "    <tr>\n",
              "      <th>4</th>\n",
              "      <td>392000</td>\n",
              "    </tr>\n",
              "  </tbody>\n",
              "</table>\n",
              "</div>"
            ],
            "text/plain": [
              "   SalePrice\n",
              "0     170000\n",
              "1     258000\n",
              "2      68400\n",
              "3     257000\n",
              "4     392000"
            ]
          },
          "execution_count": 7,
          "metadata": {},
          "output_type": "execute_result"
        }
      ],
      "source": [
        "y_train.head()"
      ]
    },
    {
      "cell_type": "markdown",
      "metadata": {},
      "source": [
        "---"
      ]
    },
    {
      "cell_type": "markdown",
      "metadata": {
        "id": "uFQo3ycuO-v6"
      },
      "source": [
        "# ML Pipeline"
      ]
    },
    {
      "cell_type": "markdown",
      "metadata": {},
      "source": [
        "### Initial Pipeline Creation"
      ]
    },
    {
      "cell_type": "markdown",
      "metadata": {},
      "source": [
        "First we will import the neccesary packages, including the feature engineering transformers, scalers, and ML algorithms. We do not need to include the data cleaning steps within our pipeline, as our data has already been cleaned and split into our test and train sets. However, it is useful to note that including those cleaning steps within the pipeline, along with the feature engineering steps, and inputing the raw data, before then splitting into our training and test sets is also a valid approach. "
      ]
    },
    {
      "cell_type": "code",
      "execution_count": 8,
      "metadata": {},
      "outputs": [
        {
          "name": "stderr",
          "output_type": "stream",
          "text": [
            "/workspace/.pip-modules/lib/python3.8/site-packages/xgboost/compat.py:93: FutureWarning: pandas.Int64Index is deprecated and will be removed from pandas in a future version. Use pandas.Index with the appropriate dtype instead.\n",
            "  from pandas import MultiIndex, Int64Index\n"
          ]
        }
      ],
      "source": [
        "from sklearn.pipeline import Pipeline\n",
        "\n",
        "# Feature Engineering \n",
        "from feature_engine.encoding import OrdinalEncoder\n",
        "from feature_engine import transformation as vt \n",
        "from feature_engine.outliers import Winsorizer, OutlierTrimmer\n",
        "from feature_engine.selection import SmartCorrelatedSelection\n",
        "\n",
        "# Feature Preprocessing (Scaling & Selection)\n",
        "from sklearn.preprocessing import StandardScaler\n",
        "from sklearn.feature_selection import SelectFromModel\n",
        "\n",
        "# Machine Learning Algorithms\n",
        "from sklearn.tree import DecisionTreeRegressor\n",
        "from sklearn.ensemble import GradientBoostingRegressor, RandomForestRegressor, ExtraTreesRegressor, AdaBoostRegressor\n",
        "from sklearn.linear_model import LinearRegression\n",
        "from xgboost import XGBRegressor"
      ]
    },
    {
      "cell_type": "markdown",
      "metadata": {},
      "source": [
        "Next we create our pipeline using the transformers and parameters decided up during our feature engineering notebook, we wont go into detail again here, so please refer back to that notebook for more information. "
      ]
    },
    {
      "cell_type": "code",
      "execution_count": 9,
      "metadata": {},
      "outputs": [],
      "source": [
        "def PipelineReg(model):\n",
        "    pipeline = Pipeline([\n",
        "        ('Ordinal Categorical Encoder', OrdinalEncoder(encoding_method='ordered', variables=['BsmtExposure', 'BsmtFinType1', 'GarageFinish', 'KitchenQual'])),\n",
        "        ('Log \"e\" Transformer', vt.LogTransformer(variables=['GrLivArea', 'LotArea'])),\n",
        "        ('Power Transformer', vt.PowerTransformer(variables=['BsmtFinSF1', 'BsmtUnfSF', 'MasVnrArea', 'OpenPorchSF'])),\n",
        "        ('Box Cox Transformer', vt.BoxCoxTransformer(variables=['1stFlrSF'])),\n",
        "        ('Yeo Johnson Transformer', vt.YeoJohnsonTransformer(variables=['EnclosedPorch', 'LotFrontage', 'TotalBsmtSF', 'WoodDeckSF'])),\n",
        "        ('Winsorizer', Winsorizer(capping_method='gaussian', tail='right', variables=['LotFrontage', 'TotalBsmtSF'])),\n",
        "        # ('Outlier Trimmer', OutlierTrimmer(capping_method='gaussian', tail='right', fold=1.5, variables=['GrLivArea'])),\n",
        "        (\"SmartCorrelatedSelection\", SmartCorrelatedSelection(variables=None, method=\"spearman\", threshold=0.8, selection_method=\"variance\")),\n",
        "        # The Scaler standardizes features by removing the mean and scaling unit to unit variance \n",
        "        ('Feature Scaling', StandardScaler()),\n",
        "        # Feature selection uses the meta-transformer to select the best features to use within the model based on their importance weights.\n",
        "        ('Feature Selection', SelectFromModel(model)),\n",
        "        ('Model', model)\n",
        "    ])\n",
        "\n",
        "    return pipeline"
      ]
    },
    {
      "cell_type": "markdown",
      "metadata": {},
      "source": [
        "### Hyperparameter Optimization"
      ]
    },
    {
      "cell_type": "markdown",
      "metadata": {},
      "source": [
        "Next we will explore hyperparameter optimization, selecting the best algorithm and its best hyperparameters to use within our pipeline."
      ]
    },
    {
      "cell_type": "code",
      "execution_count": 10,
      "metadata": {},
      "outputs": [],
      "source": [
        "from sklearn.model_selection import GridSearchCV"
      ]
    },
    {
      "cell_type": "markdown",
      "metadata": {},
      "source": [
        "We will again implement some custom code from CodeInstitute to create a class to search for the optimal Hyperparameters, using the SciKit Learn package GridSearchCV we have just imported."
      ]
    },
    {
      "cell_type": "code",
      "execution_count": 11,
      "metadata": {},
      "outputs": [],
      "source": [
        "class HyperparameterOptimizationSearch:\n",
        "\n",
        "    def __init__(self, models, params):\n",
        "        self.models = models\n",
        "        self.params = params\n",
        "        self.keys = models.keys()\n",
        "        self.grid_searchs = {}\n",
        "\n",
        "    def fit(self, features, target, cross_validation, n_jobs, verbose=1, scoring=None, refit=False):\n",
        "        for key in self.keys:\n",
        "            print(f\"\\n **Running GridSearchCV for {key}** \\n\")\n",
        "            import warnings\n",
        "            warnings.simplefilter(action='ignore', category=FutureWarning)\n",
        "            model = PipelineReg(self.models[key])\n",
        "            params = self.params[key]\n",
        "            gridsearch = GridSearchCV(model, params, cv=cross_validation, n_jobs=n_jobs, verbose=verbose, scoring=scoring)\n",
        "            gridsearch.fit(features, target)\n",
        "            self.grid_searchs[key] = gridsearch\n",
        "    \n",
        "    def score_summary(self, sort_by='mean_score'):\n",
        "        def row(key, scores, params):\n",
        "            d = {\n",
        "                'estimator': key,\n",
        "                'min_score': min(scores),\n",
        "                'max_score': max(scores),\n",
        "                'mean_score': np.mean(scores),\n",
        "                'std_score': np.std(scores),\n",
        "            }\n",
        "            return pd.Series({**params, **d})\n",
        "        \n",
        "        rows = []\n",
        "        for k in self.grid_searchs:\n",
        "            params = self.grid_searchs[k].cv_results_['params']\n",
        "            scores = []\n",
        "            for i in range(self.grid_searchs[k].cv):\n",
        "                key = \"split{}_test_score\".format(i)\n",
        "                r = self.grid_searchs[k].cv_results_[key]\n",
        "                scores.append(r.reshape(len(params), 1))\n",
        "            \n",
        "            all_scores = np.hstack(scores)\n",
        "            for p, s in zip(params, all_scores):\n",
        "                rows.append(row(k, s, p))\n",
        "\n",
        "        df = pd.concat(rows, axis=1).T.sort_values([sort_by], ascending=False)\n",
        "\n",
        "        columns = [\n",
        "            'estimator',\n",
        "            'min_score',\n",
        "            'mean_score',\n",
        "            'max_score',\n",
        "            'std_score'\n",
        "            ]\n",
        "        columns = columns + [c for c in df.columns if c not in columns]\n",
        "\n",
        "        return df[columns], self.grid_searchs"
      ]
    },
    {
      "cell_type": "markdown",
      "metadata": {},
      "source": [
        "First we will perform a grid search with the default hyperparameters to find the most appropriate algorithm for our model.\n",
        "* *Again, for reproducibility we will use the random state attribute*"
      ]
    },
    {
      "cell_type": "code",
      "execution_count": 12,
      "metadata": {},
      "outputs": [],
      "source": [
        "quick_search_models = {\n",
        "    'LinearRegression': LinearRegression(),\n",
        "    \"DecisionTreeRegressor\": DecisionTreeRegressor(random_state=23),\n",
        "    \"RandomForestRegressor\": RandomForestRegressor(random_state=23),\n",
        "    \"ExtraTreesRegressor\": ExtraTreesRegressor(random_state=23),\n",
        "    \"AdaBoostRegressor\": AdaBoostRegressor(random_state=23),\n",
        "    \"GradientBoostingRegressor\": GradientBoostingRegressor(random_state=23),\n",
        "    \"XGBRegressor\": XGBRegressor(random_state=23),\n",
        "}\n",
        "\n",
        "quick_search_params = {\n",
        "    'LinearRegression': {},\n",
        "    \"DecisionTreeRegressor\": {},\n",
        "    \"RandomForestRegressor\": {},\n",
        "    \"ExtraTreesRegressor\": {},\n",
        "    \"AdaBoostRegressor\": {},\n",
        "    \"GradientBoostingRegressor\": {},\n",
        "    \"XGBRegressor\": {},\n",
        "}"
      ]
    },
    {
      "cell_type": "markdown",
      "metadata": {},
      "source": [
        "*To keep our notebook a little tidier we have made some minor changes to subvert the warnings that would be thrown but always remember its good practice to keep note of all warnings and handle accordingly*\n",
        "* <code>FutureWarning: Passing a set as an indexer is deprecated and will raise in a future version. Use a list instead.</code>\n",
        "    * To fix this warning we change n_jobs from -1 to 1 \n",
        "* <code>DataConversionWarning: A column-vector y was passed when a 1d array was expected. Please change the shape of y to (n_samples,), for example using ravel().</code>\n",
        "    * To fix this warning we handle some slight data conversion, by using the numpy function <code>ravel()</code> on the values of our y_train, and convert to a pandas series as a numpy array is not an accepted input "
      ]
    },
    {
      "cell_type": "code",
      "execution_count": 13,
      "metadata": {},
      "outputs": [
        {
          "name": "stdout",
          "output_type": "stream",
          "text": [
            "\n",
            " **Running GridSearchCV for LinearRegression** \n",
            "\n",
            "Fitting 5 folds for each of 1 candidates, totalling 5 fits\n",
            "\n",
            " **Running GridSearchCV for DecisionTreeRegressor** \n",
            "\n",
            "Fitting 5 folds for each of 1 candidates, totalling 5 fits\n",
            "\n",
            " **Running GridSearchCV for RandomForestRegressor** \n",
            "\n",
            "Fitting 5 folds for each of 1 candidates, totalling 5 fits\n",
            "\n",
            " **Running GridSearchCV for ExtraTreesRegressor** \n",
            "\n",
            "Fitting 5 folds for each of 1 candidates, totalling 5 fits\n",
            "\n",
            " **Running GridSearchCV for AdaBoostRegressor** \n",
            "\n",
            "Fitting 5 folds for each of 1 candidates, totalling 5 fits\n",
            "\n",
            " **Running GridSearchCV for GradientBoostingRegressor** \n",
            "\n",
            "Fitting 5 folds for each of 1 candidates, totalling 5 fits\n",
            "\n",
            " **Running GridSearchCV for XGBRegressor** \n",
            "\n",
            "Fitting 5 folds for each of 1 candidates, totalling 5 fits\n"
          ]
        }
      ],
      "source": [
        "import numpy\n",
        "search = HyperparameterOptimizationSearch(models=quick_search_models, params=quick_search_params)\n",
        "search.fit(features=X_train, target=pd.Series(y_train.values.ravel()), scoring='r2', n_jobs=1, cross_validation=5)"
      ]
    },
    {
      "cell_type": "markdown",
      "metadata": {},
      "source": [
        "Now we can check the results"
      ]
    },
    {
      "cell_type": "code",
      "execution_count": 14,
      "metadata": {},
      "outputs": [
        {
          "data": {
            "text/html": [
              "<div>\n",
              "<style scoped>\n",
              "    .dataframe tbody tr th:only-of-type {\n",
              "        vertical-align: middle;\n",
              "    }\n",
              "\n",
              "    .dataframe tbody tr th {\n",
              "        vertical-align: top;\n",
              "    }\n",
              "\n",
              "    .dataframe thead th {\n",
              "        text-align: right;\n",
              "    }\n",
              "</style>\n",
              "<table border=\"1\" class=\"dataframe\">\n",
              "  <thead>\n",
              "    <tr style=\"text-align: right;\">\n",
              "      <th></th>\n",
              "      <th>estimator</th>\n",
              "      <th>min_score</th>\n",
              "      <th>mean_score</th>\n",
              "      <th>max_score</th>\n",
              "      <th>std_score</th>\n",
              "    </tr>\n",
              "  </thead>\n",
              "  <tbody>\n",
              "    <tr>\n",
              "      <th>3</th>\n",
              "      <td>ExtraTreesRegressor</td>\n",
              "      <td>0.715738</td>\n",
              "      <td>0.801543</td>\n",
              "      <td>0.872317</td>\n",
              "      <td>0.064537</td>\n",
              "    </tr>\n",
              "    <tr>\n",
              "      <th>0</th>\n",
              "      <td>LinearRegression</td>\n",
              "      <td>0.728023</td>\n",
              "      <td>0.794907</td>\n",
              "      <td>0.84446</td>\n",
              "      <td>0.046269</td>\n",
              "    </tr>\n",
              "    <tr>\n",
              "      <th>2</th>\n",
              "      <td>RandomForestRegressor</td>\n",
              "      <td>0.725459</td>\n",
              "      <td>0.784715</td>\n",
              "      <td>0.828253</td>\n",
              "      <td>0.044948</td>\n",
              "    </tr>\n",
              "    <tr>\n",
              "      <th>5</th>\n",
              "      <td>GradientBoostingRegressor</td>\n",
              "      <td>0.695142</td>\n",
              "      <td>0.775957</td>\n",
              "      <td>0.85106</td>\n",
              "      <td>0.057544</td>\n",
              "    </tr>\n",
              "    <tr>\n",
              "      <th>4</th>\n",
              "      <td>AdaBoostRegressor</td>\n",
              "      <td>0.71867</td>\n",
              "      <td>0.758176</td>\n",
              "      <td>0.790711</td>\n",
              "      <td>0.026214</td>\n",
              "    </tr>\n",
              "    <tr>\n",
              "      <th>6</th>\n",
              "      <td>XGBRegressor</td>\n",
              "      <td>0.514374</td>\n",
              "      <td>0.652946</td>\n",
              "      <td>0.760647</td>\n",
              "      <td>0.080995</td>\n",
              "    </tr>\n",
              "    <tr>\n",
              "      <th>1</th>\n",
              "      <td>DecisionTreeRegressor</td>\n",
              "      <td>0.488662</td>\n",
              "      <td>0.628737</td>\n",
              "      <td>0.715119</td>\n",
              "      <td>0.081611</td>\n",
              "    </tr>\n",
              "  </tbody>\n",
              "</table>\n",
              "</div>"
            ],
            "text/plain": [
              "                   estimator min_score mean_score max_score std_score\n",
              "3        ExtraTreesRegressor  0.715738   0.801543  0.872317  0.064537\n",
              "0           LinearRegression  0.728023   0.794907   0.84446  0.046269\n",
              "2      RandomForestRegressor  0.725459   0.784715  0.828253  0.044948\n",
              "5  GradientBoostingRegressor  0.695142   0.775957   0.85106  0.057544\n",
              "4          AdaBoostRegressor   0.71867   0.758176  0.790711  0.026214\n",
              "6               XGBRegressor  0.514374   0.652946  0.760647  0.080995\n",
              "1      DecisionTreeRegressor  0.488662   0.628737  0.715119  0.081611"
            ]
          },
          "execution_count": 14,
          "metadata": {},
          "output_type": "execute_result"
        }
      ],
      "source": [
        "grid_search_summary, grid_search_pipelines = search.score_summary(sort_by='mean_score')\n",
        "grid_search_summary"
      ]
    },
    {
      "cell_type": "markdown",
      "metadata": {},
      "source": [
        "We will also import the a metrics function to use within GridSearchCV for use as our scoring strategy. With more time and resources an investigation could be led on the effect of different possible scoring strategies and the effect they will have on the grid search cross validation."
      ]
    },
    {
      "cell_type": "markdown",
      "metadata": {},
      "source": []
    },
    {
      "cell_type": "markdown",
      "metadata": {},
      "source": [
        "---"
      ]
    },
    {
      "cell_type": "markdown",
      "metadata": {},
      "source": [
        "NOTE"
      ]
    },
    {
      "cell_type": "markdown",
      "metadata": {},
      "source": [
        "* You may add as many sections as you want, as long as they support your project workflow.\n",
        "* All notebook's cells should be run top-down (you can't create a dynamic wherein a given point you need to go back to a previous cell to execute some task, like go back to a previous cell and refresh a variable content)"
      ]
    },
    {
      "cell_type": "markdown",
      "metadata": {},
      "source": [
        "---"
      ]
    },
    {
      "cell_type": "markdown",
      "metadata": {
        "id": "ltNetd085qHf"
      },
      "source": [
        "# Push files to Repo"
      ]
    },
    {
      "cell_type": "markdown",
      "metadata": {},
      "source": [
        "* If you do not need to push files to Repo, you may replace this section with \"Conclusions and Next Steps\" and state your conclusions and next steps."
      ]
    },
    {
      "cell_type": "code",
      "execution_count": 15,
      "metadata": {
        "id": "aKlnIozA4eQO",
        "outputId": "fd09bc1f-adb1-4511-f6ce-492a6af570c0"
      },
      "outputs": [
        {
          "ename": "IndentationError",
          "evalue": "expected an indented block (2852421808.py, line 5)",
          "output_type": "error",
          "traceback": [
            "\u001b[0;36m  Cell \u001b[0;32mIn[15], line 5\u001b[0;36m\u001b[0m\n\u001b[0;31m    except Exception as e:\u001b[0m\n\u001b[0m    ^\u001b[0m\n\u001b[0;31mIndentationError\u001b[0m\u001b[0;31m:\u001b[0m expected an indented block\n"
          ]
        }
      ],
      "source": [
        "import os\n",
        "try:\n",
        "  # create here your folder\n",
        "  # os.makedirs(name='')\n",
        "except Exception as e:\n",
        "  print(e)\n"
      ]
    }
  ],
  "metadata": {
    "accelerator": "GPU",
    "colab": {
      "name": "Data Practitioner Jupyter Notebook.ipynb",
      "provenance": [],
      "toc_visible": true
    },
    "interpreter": {
      "hash": "8b8334dab9339717f727a1deaf837b322d7a41c20d15cc86be99a8e69ceec8ce"
    },
    "kernelspec": {
      "display_name": "Python 3.8.12 64-bit ('3.8.12': pyenv)",
      "name": "python3"
    },
    "language_info": {
      "codemirror_mode": {
        "name": "ipython",
        "version": 3
      },
      "file_extension": ".py",
      "mimetype": "text/x-python",
      "name": "python",
      "nbconvert_exporter": "python",
      "pygments_lexer": "ipython3",
      "version": "3.8.18"
    },
    "orig_nbformat": 2
  },
  "nbformat": 4,
  "nbformat_minor": 2
}
